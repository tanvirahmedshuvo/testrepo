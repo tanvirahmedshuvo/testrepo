{
 "cells": [
  {
   "cell_type": "markdown",
   "id": "515534a4-0989-4148-8c1c-a3bf75c4d35b",
   "metadata": {},
   "source": [
    "# Data Science Tools and Ecosystem"
   ]
  },
  {
   "cell_type": "markdown",
   "id": "03f06cbd-d5e1-46a9-970a-3f395717f772",
   "metadata": {},
   "source": [
    "In this notebook, Data Science Tools and Ecosystem are summarized."
   ]
  },
  {
   "cell_type": "markdown",
   "id": "87d7077d-91e2-4aca-9dd4-98363d45071f",
   "metadata": {},
   "source": [
    "Some of the popular languages that Data Scientists use are:\n",
    "1. Python\n",
    "2. R\n",
    "3. SQL"
   ]
  },
  {
   "cell_type": "markdown",
   "id": "f61dc474-06f8-4020-a456-295f8e69df3e",
   "metadata": {},
   "source": [
    "Some of the commonly used libraries used by Data Scientists include:\n",
    "1. Matplotlib\n",
    "2. NumPy\n",
    "3. Sklearn\n",
    "4. Seaborn"
   ]
  },
  {
   "cell_type": "markdown",
   "id": "3dbf85c3-dd1b-420d-bed0-d7db54e25bfc",
   "metadata": {},
   "source": [
    "Data Science Tools:\n",
    "\n",
    "|Data Science Tools|\n",
    "|---|\n",
    "|SAS It is one of those data science tools which are specifically designed for statistical operation|\n",
    "|Apache Spark| \n",
    "|BigML|"
   ]
  },
  {
   "cell_type": "markdown",
   "id": "a483f205-506a-44e1-a1b4-07d0f5ec6363",
   "metadata": {},
   "source": [
    "### Below are a few examples of evaluating arithmetic expressions in Python"
   ]
  },
  {
   "cell_type": "markdown",
   "id": "fb1c0872-261f-4fc8-a6b4-c5650309cc0b",
   "metadata": {},
   "source": [
    "# Arithmetic operations examples\n",
    "$ a^2 +2ab + b^2 $\n",
    "\n",
    "$ b^2 +2ab + a^2 $\n",
    "\n",
    "$ 3+2 = 5 $"
   ]
  },
  {
   "cell_type": "markdown",
   "id": "5e7798a2-efa8-493d-8241-bb875988f71f",
   "metadata": {},
   "source": [
    "This a simple arithmetic expression to mutiply then add integers"
   ]
  },
  {
   "cell_type": "code",
   "execution_count": 6,
   "id": "a5121e7f-4ba2-4d10-acdf-3f4344ca02e0",
   "metadata": {
    "tags": []
   },
   "outputs": [
    {
     "data": {
      "text/plain": [
       "17"
      ]
     },
     "execution_count": 6,
     "metadata": {},
     "output_type": "execute_result"
    }
   ],
   "source": [
    "# This a simple arithmetic expression to mutiply then add integers\n",
    "(3*4)+5"
   ]
  },
  {
   "cell_type": "markdown",
   "id": "fafa78d9-a186-4aa1-805e-1692704316f3",
   "metadata": {},
   "source": [
    " This will convert 200 minutes to hours by diving by 60"
   ]
  },
  {
   "cell_type": "code",
   "execution_count": 7,
   "id": "1d20b77b-3515-4aec-9bf9-738238250d50",
   "metadata": {
    "collapsed": true,
    "jupyter": {
     "outputs_hidden": true
    },
    "tags": []
   },
   "outputs": [
    {
     "name": "stdout",
     "output_type": "stream",
     "text": [
      "0 days, 3.3333333333333335 hours, 0 mins. \n"
     ]
    }
   ],
   "source": [
    "#  This will convert 200 minutes to hours by diving by 60\n",
    "days = 0\n",
    "hours = 0\n",
    "mins = 0\n",
    "\n",
    "time = 200\n",
    "#days = time / 1440\n",
    "leftover_minutes = time % 1440\n",
    "hours = leftover_minutes / 60\n",
    "#mins = time - (days*1440) - (hours*60)\n",
    "print(str(days) + \" days, \" + str(hours) + \" hours, \" + str(mins) +  \" mins. \")"
   ]
  },
  {
   "cell_type": "markdown",
   "id": "5a51e1e0-f6be-4df5-bb74-2c8920cc384f",
   "metadata": {},
   "source": [
    "# Objectives:"
   ]
  },
  {
   "cell_type": "markdown",
   "id": "7f6fc792-95ad-484d-87b0-600a2b652c27",
   "metadata": {},
   "source": [
    "* List popular languages for Data Science\n",
    "* List of the popular languages that Data Scientists use\n",
    "* Some of the commonly used libraries used by Data Scientist"
   ]
  },
  {
   "cell_type": "markdown",
   "id": "7a915b53-ead9-414f-8e5f-d6eb85499bef",
   "metadata": {},
   "source": [
    "## Author\n",
    "Md Tanvir Shuvo"
   ]
  },
  {
   "cell_type": "code",
   "execution_count": null,
   "id": "a3113c43-bca1-4a69-8f96-90760b5820e1",
   "metadata": {},
   "outputs": [],
   "source": []
  }
 ],
 "metadata": {
  "kernelspec": {
   "display_name": "Python",
   "language": "python",
   "name": "conda-env-python-py"
  },
  "language_info": {
   "codemirror_mode": {
    "name": "ipython",
    "version": 3
   },
   "file_extension": ".py",
   "mimetype": "text/x-python",
   "name": "python",
   "nbconvert_exporter": "python",
   "pygments_lexer": "ipython3",
   "version": "3.7.12"
  }
 },
 "nbformat": 4,
 "nbformat_minor": 5
}
